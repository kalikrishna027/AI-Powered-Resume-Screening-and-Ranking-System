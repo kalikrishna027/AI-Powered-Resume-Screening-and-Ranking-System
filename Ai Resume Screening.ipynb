{
 "cells": [
  {
   "cell_type": "code",
   "execution_count": 1,
   "id": "4d3b8356-4361-4a20-b78e-98bfdebda3d7",
   "metadata": {},
   "outputs": [],
   "source": [
    "import pandas as pd\n",
    "import re\n",
    "import math\n",
    "from collections import Counter\n"
   ]
  },
  {
   "cell_type": "code",
   "execution_count": 6,
   "id": "8a728145-efcf-4608-b0c9-9c3a1958dee9",
   "metadata": {},
   "outputs": [
    {
     "name": "stdout",
     "output_type": "stream",
     "text": [
      "       Category                                             Resume\n",
      "0  Data Science  Skills * Programming Languages: Python (pandas...\n",
      "1  Data Science  Education Details \\r\\nMay 2013 to May 2017 B.E...\n",
      "2  Data Science  Areas of Interest Deep Learning, Control Syste...\n",
      "3  Data Science  Skills â¢ R â¢ Python â¢ SAP HANA â¢ Table...\n",
      "4  Data Science  Education Details \\r\\n MCA   YMCAUST,  Faridab...\n"
     ]
    }
   ],
   "source": [
    "# Load dataset\n",
    "file_path = \"UpdatedResumeDataSet.csv\"\n",
    "df = pd.read_csv(file_path)\n",
    "\n",
    "# Display first few rows\n",
    "print(df.head())\n"
   ]
  },
  {
   "cell_type": "code",
   "execution_count": 7,
   "id": "a7a8ac67-70e7-4c13-81ba-34bf4bc43ce9",
   "metadata": {},
   "outputs": [],
   "source": [
    "# Function to clean and tokenize text\n",
    "def preprocess_text(text):\n",
    "    text = str(text).lower()  # Convert to lowercase\n",
    "    text = re.sub(r'\\d+', '', text)  # Remove numbers\n",
    "    text = re.sub(r'[^\\w\\s]', '', text)  # Remove punctuation\n",
    "    tokens = text.split()  # Tokenize by splitting on spaces\n",
    "    return tokens\n",
    "\n",
    "# Apply preprocessing to resumes\n",
    "df['cleaned_resume'] = df['Resume'].apply(preprocess_text)\n"
   ]
  },
  {
   "cell_type": "code",
   "execution_count": 8,
   "id": "710a9902-6de2-4c8e-8795-ddf39a91eaa5",
   "metadata": {},
   "outputs": [],
   "source": [
    "# Function to count word occurrences (Term Frequency)\n",
    "def word_frequency(tokens):\n",
    "    return Counter(tokens)\n",
    "\n",
    "# Compute word frequency for resumes\n",
    "df['word_freq'] = df['cleaned_resume'].apply(word_frequency)\n"
   ]
  },
  {
   "cell_type": "code",
   "execution_count": 9,
   "id": "31f5a5d4-7cfe-4b47-969b-26a2578e1e48",
   "metadata": {},
   "outputs": [
    {
     "name": "stdout",
     "output_type": "stream",
     "text": [
      "                                               Resume      Category  \\\n",
      "38  Personal Skills â¢ Ability to quickly grasp t...  Data Science   \n",
      "28  Personal Skills â¢ Ability to quickly grasp t...  Data Science   \n",
      "18  Personal Skills â¢ Ability to quickly grasp t...  Data Science   \n",
      "8   Personal Skills â¢ Ability to quickly grasp t...  Data Science   \n",
      "17  Education Details \\r\\n B.Tech   Rayat and Bahr...  Data Science   \n",
      "7   Education Details \\r\\n B.Tech   Rayat and Bahr...  Data Science   \n",
      "27  Education Details \\r\\n B.Tech   Rayat and Bahr...  Data Science   \n",
      "37  Education Details \\r\\n B.Tech   Rayat and Bahr...  Data Science   \n",
      "19  Expertise â Data and Quantitative Analysis â...  Data Science   \n",
      "39  Expertise â Data and Quantitative Analysis â...  Data Science   \n",
      "\n",
      "    similarity_score  \n",
      "38          0.496469  \n",
      "28          0.496469  \n",
      "18          0.496469  \n",
      "8           0.496469  \n",
      "17          0.426289  \n",
      "7           0.426289  \n",
      "27          0.426289  \n",
      "37          0.426289  \n",
      "19          0.418825  \n",
      "39          0.418825  \n"
     ]
    }
   ],
   "source": [
    "# Sample job description for matching\n",
    "job_description = \"Looking for a Data Scientist with experience in Python, Machine Learning, NLP. Must have MSc in Computer Science and at least 4 years of experience.\"\n",
    "\n",
    "# Preprocess job description\n",
    "cleaned_job_desc = preprocess_text(job_description)\n",
    "\n",
    "# Compute word frequency for job description\n",
    "job_desc_word_freq = word_frequency(cleaned_job_desc)\n",
    "\n",
    "# Function to calculate Cosine Similarity\n",
    "def cosine_similarity(freq1, freq2):\n",
    "    all_words = set(freq1.keys()).union(set(freq2.keys()))\n",
    "\n",
    "    vec1 = [freq1.get(word, 0) for word in all_words]\n",
    "    vec2 = [freq2.get(word, 0) for word in all_words]\n",
    "\n",
    "    dot_product = sum(x * y for x, y in zip(vec1, vec2))\n",
    "    magnitude1 = math.sqrt(sum(x**2 for x in vec1))\n",
    "    magnitude2 = math.sqrt(sum(x**2 for x in vec2))\n",
    "\n",
    "    return dot_product / (magnitude1 * magnitude2) if magnitude1 and magnitude2 else 0\n",
    "\n",
    "# Compute similarity scores\n",
    "df['similarity_score'] = df['word_freq'].apply(lambda x: cosine_similarity(x, job_desc_word_freq))\n",
    "\n",
    "# Rank candidates based on similarity scores\n",
    "df_sorted = df.sort_values(by='similarity_score', ascending=False)\n",
    "\n",
    "# Display top 10 ranked candidates\n",
    "print(df_sorted[['Resume', 'Category', 'similarity_score']].head(10))\n"
   ]
  },
  {
   "cell_type": "code",
   "execution_count": null,
   "id": "538873d5-84a9-405f-96e0-c55835272020",
   "metadata": {},
   "outputs": [],
   "source": []
  }
 ],
 "metadata": {
  "kernelspec": {
   "display_name": "Python 3 (ipykernel)",
   "language": "python",
   "name": "python3"
  },
  "language_info": {
   "codemirror_mode": {
    "name": "ipython",
    "version": 3
   },
   "file_extension": ".py",
   "mimetype": "text/x-python",
   "name": "python",
   "nbconvert_exporter": "python",
   "pygments_lexer": "ipython3",
   "version": "3.12.7"
  }
 },
 "nbformat": 4,
 "nbformat_minor": 5
}
